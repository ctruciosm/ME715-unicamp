{
  "nbformat": 4,
  "nbformat_minor": 0,
  "metadata": {
    "colab": {
      "provenance": [],
      "authorship_tag": "ABX9TyNhZwsKwIZtP1/COW+CfG+k",
      "include_colab_link": true
    },
    "kernelspec": {
      "name": "python3",
      "display_name": "Python 3"
    },
    "language_info": {
      "name": "python"
    }
  },
  "cells": [
    {
      "cell_type": "markdown",
      "metadata": {
        "id": "view-in-github",
        "colab_type": "text"
      },
      "source": [
        "<a href=\"https://colab.research.google.com/github/ctruciosm/ME715-unicamp/blob/master/Lab_10.ipynb\" target=\"_parent\"><img src=\"https://colab.research.google.com/assets/colab-badge.svg\" alt=\"Open In Colab\"/></a>"
      ]
    },
    {
      "cell_type": "code",
      "execution_count": null,
      "metadata": {
        "id": "cBA2N3RxWcnY"
      },
      "outputs": [],
      "source": []
    },
    {
      "cell_type": "markdown",
      "source": [
        "# Q1"
      ],
      "metadata": {
        "id": "N--943kEWfCz"
      }
    },
    {
      "cell_type": "code",
      "source": [
        "1. Defina corn como o consumo per capita de milho em toneladas de grãos de um dado\n",
        "município, price como o preço por tonelada de milho, income como a renda per capita do\n",
        "município e rainfall como a precipitação pluviométrica em milímetros durante a última\n",
        "safra do plantio de milho. O seguinte modelo de equações simultâneas impõe a condição\n",
        "de equilibrio em que a oferta se iguala à demanda:\n",
        "\n",
        "corn = α1price + β1income + u1\n",
        "\n",
        "corn = α2price + β2rainfall + β3rainfall2 + u2\n",
        "\n",
        "a) Qual a equação da oferta e qual é a de demanda? (Justifique)"
      ],
      "metadata": {
        "id": "M7pyNa5MWg9y"
      },
      "execution_count": null,
      "outputs": []
    },
    {
      "cell_type": "markdown",
      "source": [
        "RESPOSTA:\n",
        "\n",
        "Oferta é a segunda equação pois a chuva influencia a produção, mas não o consumo\n",
        "\n",
        "Demanda é a primeira pois não importa se está chovendo não influencia no quanto de milho as pessoas comem"
      ],
      "metadata": {
        "id": "S51dhPMaW4Yi"
      }
    },
    {
      "cell_type": "markdown",
      "source": [
        "b) Algumas das equações é identificada? (se sim, é exatamente identificada ou superi-\n",
        "dentificada?)"
      ],
      "metadata": {
        "id": "bhlkYNX1X7Dy"
      }
    },
    {
      "cell_type": "code",
      "source": [
        "# 1 Equação\n",
        "\n",
        "M = 2\n",
        "m = 1\n",
        "K = 3\n",
        "k = 1\n",
        "\n",
        "dif_K = K-k\n",
        "dif_M = m-1\n",
        "\n",
        "dif_K > dif_M #Sobre identificada\n",
        "\n",
        "# 2 equação\n",
        "\n",
        "M = 2\n",
        "m = 1\n",
        "K = 3\n",
        "k = 2\n",
        "\n",
        "dif_K = K-k\n",
        "dif_M = m-1\n",
        "\n",
        "dif_K > dif_M #Sobre identificada"
      ],
      "metadata": {
        "colab": {
          "base_uri": "https://localhost:8080/"
        },
        "id": "fkhctDvbX7Sp",
        "outputId": "64bf84d8-c38a-4966-e320-47768ce1c9f3"
      },
      "execution_count": null,
      "outputs": [
        {
          "output_type": "execute_result",
          "data": {
            "text/plain": [
              "True"
            ]
          },
          "metadata": {},
          "execution_count": 4
        }
      ]
    },
    {
      "cell_type": "markdown",
      "source": [
        "Q2"
      ],
      "metadata": {
        "id": "41_hGGQvZJsq"
      }
    },
    {
      "cell_type": "markdown",
      "source": [
        "Suponha que os ganhos e consumo de bebidas alcoólicas anuais sejam determinados pelo\n",
        "seguinte sistema de equações simultâneas:\n",
        "\n",
        "log(earnings) = β0 + β1alcoohol + β2\n",
        "educ + u1\n",
        "\n",
        "\n",
        "alcohol = γ0 + γ1\n",
        "\n",
        "log(earnings) + γ2\n",
        "educ + γ3\n",
        "log(price) + u2\n",
        "\n",
        "Suponha que educ e price sejam exógenos. Se β1\n",
        ", β2\n",
        ", γ1\n",
        ", γ2\n",
        "e γ3\n",
        "são todos diferentes de\n",
        "\n",
        "zero."
      ],
      "metadata": {
        "id": "G94bkOUMd89s"
      }
    },
    {
      "cell_type": "markdown",
      "source": [
        "a) Qual equação é identificada?"
      ],
      "metadata": {
        "id": "FCW2xAGheAnS"
      }
    },
    {
      "cell_type": "markdown",
      "source": [
        "A primeira equação é identificada porque, pelo método da classificação, é possível ver que a segunda equação contém a variável exógena log(price) que não está contida na primeira."
      ],
      "metadata": {
        "id": "lC7ywLAmeBjK"
      }
    },
    {
      "cell_type": "markdown",
      "source": [
        "b) Como você estimaria a equação?"
      ],
      "metadata": {
        "id": "XAWLLg92eOvS"
      }
    },
    {
      "cell_type": "markdown",
      "source": [
        " K = 4\n",
        " k = 2\n",
        " m = 1\n",
        "\n",
        " Pela condição de ordem:\n",
        " K - k = 2; m - 1 = 0\n",
        "\n",
        "Logo, a equação é sobreidentificada.\n",
        "\n"
      ],
      "metadata": {
        "id": "ZPlORdv1ePqC"
      }
    },
    {
      "cell_type": "code",
      "source": [],
      "metadata": {
        "id": "iQkJMjlSYCJr"
      },
      "execution_count": null,
      "outputs": []
    },
    {
      "cell_type": "markdown",
      "source": [
        "Q3"
      ],
      "metadata": {
        "id": "2oY9P0VZZa_C"
      }
    },
    {
      "cell_type": "code",
      "source": [
        "install.packages(\"systemfit\")\n",
        "install.packages(\"wooldridge\")\n",
        "\n",
        "library(systemfit)\n",
        "library(wooldridge)\n",
        "\n",
        "data(mroz, package = \"wooldridge\")\n",
        "oursample <- subset(mroz, !is.na(wage))\n",
        "\n",
        "eq.hrs <- hours ~ log(wage) + educ + age + kidslt6 + nwifeinc\n",
        "eq.wage <- log(wage) ~ hours + educ + exper + I(exper^2)\n",
        "eq.system<- list(eq.hrs, eq.wage)\n",
        "instrum <- ~ educ + age + kidslt6 + nwifeinc + exper + I(exper^2)\n",
        "\n",
        "summary(systemfit(eq.system, inst = instrum, data = oursample, method = \"3SLS\"))"
      ],
      "metadata": {
        "colab": {
          "base_uri": "https://localhost:8080/",
          "height": 1000
        },
        "id": "rz_Cx6yuZcKC",
        "outputId": "844baca3-075c-4e3d-f646-30ae39228084"
      },
      "execution_count": null,
      "outputs": [
        {
          "output_type": "stream",
          "name": "stderr",
          "text": [
            "Installing package into ‘/usr/local/lib/R/site-library’\n",
            "(as ‘lib’ is unspecified)\n",
            "\n",
            "also installing the dependencies ‘numDeriv’, ‘SparseM’, ‘MatrixModels’, ‘minqa’, ‘nloptr’, ‘Rcpp’, ‘RcppEigen’, ‘carData’, ‘abind’, ‘pbkrtest’, ‘quantreg’, ‘lme4’, ‘zoo’, ‘car’, ‘lmtest’, ‘sandwich’\n",
            "\n",
            "\n",
            "Installing package into ‘/usr/local/lib/R/site-library’\n",
            "(as ‘lib’ is unspecified)\n",
            "\n",
            "Loading required package: Matrix\n",
            "\n",
            "Loading required package: car\n",
            "\n",
            "Loading required package: carData\n",
            "\n",
            "Loading required package: lmtest\n",
            "\n",
            "Loading required package: zoo\n",
            "\n",
            "\n",
            "Attaching package: ‘zoo’\n",
            "\n",
            "\n",
            "The following objects are masked from ‘package:base’:\n",
            "\n",
            "    as.Date, as.Date.numeric\n",
            "\n",
            "\n",
            "\n",
            "Please cite the 'systemfit' package as:\n",
            "Arne Henningsen and Jeff D. Hamann (2007). systemfit: A Package for Estimating Systems of Simultaneous Equations in R. Journal of Statistical Software 23(4), 1-40. http://www.jstatsoft.org/v23/i04/.\n",
            "\n",
            "If you have questions, suggestions, or comments regarding the 'systemfit' package, please use a forum or 'tracker' at systemfit's R-Forge site:\n",
            "https://r-forge.r-project.org/projects/systemfit/\n",
            "\n"
          ]
        },
        {
          "output_type": "display_data",
          "data": {
            "text/plain": [
              "\n",
              "systemfit results \n",
              "method: 3SLS \n",
              "\n",
              "         N  DF       SSR detRCov   OLS-R2 McElroy-R2\n",
              "system 856 845 873749822  102713 -2.39569     0.8498\n",
              "\n",
              "      N  DF         SSR         MSE        RMSE        R2   Adj R2\n",
              "eq1 428 422 8.73750e+08 2.07050e+06 1438.922072 -2.395695 -2.43593\n",
              "eq2 428 423 2.02143e+02 4.77879e-01    0.691288  0.094859  0.08630\n",
              "\n",
              "The covariance matrix of the residuals used for estimation\n",
              "            eq1         eq2\n",
              "eq1 1833869.938 -831.542690\n",
              "eq2    -831.543    0.461621\n",
              "\n",
              "The covariance matrix of the residuals\n",
              "            eq1         eq2\n",
              "eq1 2070496.730 -941.665438\n",
              "eq2    -941.665    0.477879\n",
              "\n",
              "The correlations of the residuals\n",
              "          eq1       eq2\n",
              "eq1  1.000000 -0.946674\n",
              "eq2 -0.946674  1.000000\n",
              "\n",
              "\n",
              "3SLS estimates for 'eq1' (equation 1)\n",
              "Model Formula: hours ~ log(wage) + educ + age + kidslt6 + nwifeinc\n",
              "Instruments: ~educ + age + kidslt6 + nwifeinc + exper + I(exper^2)\n",
              "\n",
              "               Estimate  Std. Error  t value   Pr(>|t|)    \n",
              "(Intercept) 2305.857474  511.540685  4.50767 8.5013e-06 ***\n",
              "log(wage)   1781.933409  439.884241  4.05091 6.0726e-05 ***\n",
              "educ        -212.819501   53.727044 -3.96112 8.7558e-05 ***\n",
              "age           -9.514997    7.960948 -1.19521    0.23268    \n",
              "kidslt6     -192.359058  150.917507 -1.27460    0.20315    \n",
              "nwifeinc      -0.176983    3.583623 -0.04939    0.96063    \n",
              "---\n",
              "Signif. codes:  0 ‘***’ 0.001 ‘**’ 0.01 ‘*’ 0.05 ‘.’ 0.1 ‘ ’ 1\n",
              "\n",
              "Residual standard error: 1438.922072 on 422 degrees of freedom\n",
              "Number of observations: 428 Degrees of Freedom: 422 \n",
              "SSR: 873749620.001173 MSE: 2070496.729861 Root MSE: 1438.922072 \n",
              "Multiple R-Squared: -2.395695 Adjusted R-Squared: -2.435928 \n",
              "\n",
              "\n",
              "3SLS estimates for 'eq2' (equation 2)\n",
              "Model Formula: log(wage) ~ hours + educ + exper + I(exper^2)\n",
              "Instruments: ~educ + age + kidslt6 + nwifeinc + exper + I(exper^2)\n",
              "\n",
              "                Estimate   Std. Error  t value   Pr(>|t|)    \n",
              "(Intercept) -0.693920346  0.335995510 -2.06527   0.039506 *  \n",
              "hours        0.000190868  0.000247652  0.77071   0.441308    \n",
              "educ         0.112738573  0.015368872  7.33551 1.1364e-12 ***\n",
              "exper        0.021428533  0.015383608  1.39295   0.164368    \n",
              "I(exper^2)  -0.000302959  0.000268028 -1.13033   0.258978    \n",
              "---\n",
              "Signif. codes:  0 ‘***’ 0.001 ‘**’ 0.01 ‘*’ 0.05 ‘.’ 0.1 ‘ ’ 1\n",
              "\n",
              "Residual standard error: 0.691288 on 423 degrees of freedom\n",
              "Number of observations: 428 Degrees of Freedom: 423 \n",
              "SSR: 202.142836 MSE: 0.477879 Root MSE: 0.691288 \n",
              "Multiple R-Squared: 0.094859 Adjusted R-Squared: 0.0863 \n"
            ]
          },
          "metadata": {}
        }
      ]
    },
    {
      "cell_type": "code",
      "source": [
        "!pip install wooldridge\n",
        "!pip install numpy\n",
        "!pip install linearmodels\n",
        "\n",
        "import wooldridge as woo\n",
        "import numpy as np\n",
        "import linearmodels.system as iv3\n",
        "\n",
        "mroz = woo.dataWoo(\"mroz\")\n",
        "mroz = mroz.dropna(subset = ['lwage'])\n",
        "\n",
        "formula = {\n",
        "    \"eq1\": \"hours ~ 1 + educ + age + kidslt6 + nwifeinc + [np.log(wage) ~ exper + I(exper**2)]\",\n",
        "    \"eq2\": \"np.log(wage) ~ 1 + educ + exper + I(exper**2) + [hours ~ age + kidslt6 + nwifeinc]\"\n",
        "}\n",
        "reg_3sls = iv3.IV3SLS.from_formula(formula, data = mroz)\n",
        "\n",
        "resulsts_3sls = reg_3sls.fit(cov_type = \"unadjusted\", debiased = True)\n",
        "print(f\"resulsts_3sls: \\n{resulsts_3sls}\\n\")"
      ],
      "metadata": {
        "id": "V11adNB1aoe7"
      },
      "execution_count": null,
      "outputs": []
    },
    {
      "cell_type": "code",
      "source": [
        "using PyCall\n",
        "\n",
        "# julia\n",
        "# using Conda\n",
        "# env = Conda.PYTHONDIR\n",
        "# Conda.pip_interop(true, env)\n",
        "# Conda.list(env)\n",
        "# Conda.pip(\"install\", [\"wooldridge\", \"numpy\", \"linearmodels\"])\n",
        "# exit()\n",
        "\n",
        "py\"\"\"\n",
        "import wooldridge as woo\n",
        "import numpy as np\n",
        "import linearmodels.system as iv3\n",
        "\n",
        "mroz = woo.dataWoo(\"mroz\")\n",
        "mroz = mroz.dropna(subset = ['lwage'])\n",
        "\n",
        "formula = {\n",
        "    \"eq1\": \"hours ~ 1 + educ + age + kidslt6 + nwifeinc + [np.log(wage) ~ exper + I(exper**2)]\",\n",
        "    \"eq2\": \"np.log(wage) ~ 1 + educ + exper + I(exper**2) + [hours ~ age + kidslt6 + nwifeinc]\"\n",
        "}\n",
        "reg_3sls = iv3.IV3SLS.from_formula(formula, data = mroz)\n",
        "\n",
        "resulsts_3sls = reg_3sls.fit(cov_type = \"unadjusted\", debiased = True)\n",
        "print(f\"resulsts_3sls: \\n{resulsts_3sls}\\n\")\n",
        "\"\"\""
      ],
      "metadata": {
        "id": "QLBt8WlXaxTi"
      },
      "execution_count": null,
      "outputs": []
    },
    {
      "cell_type": "markdown",
      "source": [
        "Questão 04"
      ],
      "metadata": {
        "id": "vaJvZaLDgdgi"
      }
    },
    {
      "cell_type": "code",
      "source": [
        "# exercicio 04\n",
        "library(tidyverse)\n",
        "library(wooldridge)\n",
        "dados <- smoke\n",
        "# a)\n",
        "fit <- lm(lincome~cigs+educ+age+agesq, data = dados)\n",
        "summary(fit)\n",
        "# 0,17306%\n",
        "# b)\n",
        "forma_reduzida <- lm(cigs ~ lincome + educ + age + agesq + lcigpric + restaurn, data = dados)\n",
        "forma_reduzida_r <- lm(cigs ~ lincome + educ + age + agesq, data = dados)\n",
        "anova(forma_reduzida_r, forma_reduzida)\n",
        "# rejeita-se a hipótese nula, portanto o probleme é do tipo indentificado\n",
        "# eq 1: M = 2, m = 1, K = 5, k = 3, logo a equação de interesse é sobreidentificado\n",
        "\n",
        "# aplicando MQ2E\n",
        "library(AER)\n",
        "equacao01 <- ivreg(lincome~cigs+educ+age+agesq | educ + age + agesq, data = dados)\n",
        "equacao02 <- ivreg(cigs ~ lincome + educ + age + agesq + lcigpric + restaurn| educ + age + agesq, data = dados)\n",
        "summary(equacao01)"
      ],
      "metadata": {
        "id": "Ndu3n-e8gcnT"
      },
      "execution_count": null,
      "outputs": []
    }
  ]
}