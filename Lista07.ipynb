{
  "nbformat": 4,
  "nbformat_minor": 0,
  "metadata": {
    "colab": {
      "provenance": [],
      "authorship_tag": "ABX9TyN6e5LsraPJRegJAtuWEkWg",
      "include_colab_link": true
    },
    "kernelspec": {
      "name": "python3",
      "display_name": "Python 3"
    },
    "language_info": {
      "name": "python"
    }
  },
  "cells": [
    {
      "cell_type": "markdown",
      "metadata": {
        "id": "view-in-github",
        "colab_type": "text"
      },
      "source": [
        "<a href=\"https://colab.research.google.com/github/ctruciosm/ME715-unicamp/blob/master/Lista07.ipynb\" target=\"_parent\"><img src=\"https://colab.research.google.com/assets/colab-badge.svg\" alt=\"Open In Colab\"/></a>"
      ]
    },
    {
      "cell_type": "code",
      "source": [
        "pip install wooldridge"
      ],
      "metadata": {
        "colab": {
          "base_uri": "https://localhost:8080/"
        },
        "id": "ROzpKkNKOkI4",
        "outputId": "fe33393d-40c8-442c-fd83-e9e78b6f61c4"
      },
      "execution_count": null,
      "outputs": [
        {
          "output_type": "stream",
          "name": "stdout",
          "text": [
            "Collecting wooldridge\n",
            "  Downloading wooldridge-0.4.4-py3-none-any.whl (5.1 MB)\n",
            "\u001b[2K     \u001b[90m━━━━━━━━━━━━━━━━━━━━━━━━━━━━━━━━━━━━━━━━\u001b[0m \u001b[32m5.1/5.1 MB\u001b[0m \u001b[31m23.2 MB/s\u001b[0m eta \u001b[36m0:00:00\u001b[0m\n",
            "\u001b[?25hRequirement already satisfied: pandas in /usr/local/lib/python3.10/dist-packages (from wooldridge) (1.5.3)\n",
            "Requirement already satisfied: python-dateutil>=2.8.1 in /usr/local/lib/python3.10/dist-packages (from pandas->wooldridge) (2.8.2)\n",
            "Requirement already satisfied: pytz>=2020.1 in /usr/local/lib/python3.10/dist-packages (from pandas->wooldridge) (2023.3.post1)\n",
            "Requirement already satisfied: numpy>=1.21.0 in /usr/local/lib/python3.10/dist-packages (from pandas->wooldridge) (1.23.5)\n",
            "Requirement already satisfied: six>=1.5 in /usr/local/lib/python3.10/dist-packages (from python-dateutil>=2.8.1->pandas->wooldridge) (1.16.0)\n",
            "Installing collected packages: wooldridge\n",
            "Successfully installed wooldridge-0.4.4\n"
          ]
        }
      ]
    },
    {
      "cell_type": "code",
      "execution_count": null,
      "metadata": {
        "colab": {
          "base_uri": "https://localhost:8080/"
        },
        "id": "ahx5jAHrL3_J",
        "outputId": "cb0c8b73-c0c1-4209-9e84-2eeaee8d988f"
      },
      "outputs": [
        {
          "output_type": "stream",
          "name": "stdout",
          "text": [
            "                                 OLS Regression Results                                \n",
            "=======================================================================================\n",
            "Dep. Variable:                      y   R-squared (uncentered):                   0.985\n",
            "Model:                            OLS   Adj. R-squared (uncentered):              0.984\n",
            "Method:                 Least Squares   F-statistic:                              1165.\n",
            "Date:                Thu, 26 Oct 2023   Prob (F-statistic):                   6.98e-110\n",
            "Time:                        14:10:22   Log-Likelihood:                         -109.44\n",
            "No. Observations:                 131   AIC:                                      232.9\n",
            "Df Residuals:                     124   BIC:                                      253.0\n",
            "Df Model:                           7                                                  \n",
            "Covariance Type:            nonrobust                                                  \n",
            "==============================================================================\n",
            "                 coef    std err          t      P>|t|      [0.025      0.975]\n",
            "------------------------------------------------------------------------------\n",
            "x1           -35.3888     22.629     -1.564      0.120     -80.178       9.401\n",
            "x2             2.9595      0.615      4.810      0.000       1.742       4.177\n",
            "x3             0.9712      0.971      1.000      0.319      -0.952       2.894\n",
            "x4             1.1199      0.495      2.264      0.025       0.141       2.099\n",
            "x5            -0.0082      0.313     -0.026      0.979      -0.629       0.612\n",
            "x6            -0.0329      0.316     -0.104      0.917      -0.658       0.593\n",
            "x7            -0.5754      0.336     -1.710      0.090      -1.241       0.091\n",
            "==============================================================================\n",
            "Omnibus:                        9.368   Durbin-Watson:                   2.040\n",
            "Prob(Omnibus):                  0.009   Jarque-Bera (JB):               10.085\n",
            "Skew:                          -0.508   Prob(JB):                      0.00646\n",
            "Kurtosis:                       3.902   Cond. No.                     7.88e+03\n",
            "==============================================================================\n",
            "\n",
            "Notes:\n",
            "[1] R² is computed without centering (uncentered) since the model does not contain a constant.\n",
            "[2] Standard Errors assume that the covariance matrix of the errors is correctly specified.\n",
            "[3] The condition number is large, 7.88e+03. This might indicate that there are\n",
            "strong multicollinearity or other numerical problems.\n"
          ]
        }
      ],
      "source": [
        "import wooldridge as woo\n",
        "import statsmodels.api as sm\n",
        "import statsmodels.formula.api as smf\n",
        "import pandas as pd\n",
        "import numpy as np\n",
        "\n",
        "barium = woo.dataWoo('barium')\n",
        "modelo = smf.ols(formula  = \"np.log(chnimp) ~np.log(chempi) + np.log(gas) + np.log(rtwex) + befile6 + affile6 + afdec6\", data = barium).fit()\n",
        "\n",
        "u = np.log(barium.chnimp) - modelo.fittedvalues\n",
        "\n",
        "u_lag1 = np.roll(u, shift = 1)\n",
        "#u_lag1[0] = 0\n",
        "\n",
        "reg_aux = sm.OLS(u, u_lag1).fit()\n",
        "rho = reg_aux.params[0]\n",
        "\n",
        "n = len(barium)\n",
        "psi = np.identity(n)\n",
        "psi[0,0] = np.sqrt(1-rho**2)\n",
        "\n",
        "for i in range(1,n):\n",
        "  psi[i,i] = 1\n",
        "  psi[i, i-1] = -rho\n",
        "\n",
        "Y = np.dot(psi, np.log(barium['chnimp']))\n",
        "#X = np.dot(psi, barium[['chempi', 'gas', 'rtwex', 'befile6', 'affile6', 'afdec6']])\n",
        "\n",
        "X = pd.DataFrame({'intercept' : [1]*n,\n",
        "                  'lchempi' : np.log(barium['chempi']),\n",
        "                 'lgas' : np.log(barium[\"gas\"]),\n",
        "                 'lrtwex': np.log(barium.rtwex),\n",
        "                 'befile6' : barium.befile6,\n",
        "                 'affile' : barium.affile6,\n",
        "                 'afdec' : barium.afdec6})\n",
        "X = np.dot(psi, X)\n",
        "\n",
        "#new_df = pd.DataFrame(X, columns = ['chempi', 'gas', 'rtwex', 'befile6', 'affile6', 'afdec6'])\n",
        "#new_df['lchnimp'] = Y\n",
        "\n",
        "modelo_mqgf  = sm.OLS(Y, X).fit()\n",
        "print(modelo_mqgf.summary())"
      ]
    },
    {
      "cell_type": "code",
      "source": [
        "psi"
      ],
      "metadata": {
        "colab": {
          "base_uri": "https://localhost:8080/"
        },
        "id": "6IQ6SdvcQpqe",
        "outputId": "7c3cc381-18c8-405c-c7f2-76f573d4e329"
      },
      "execution_count": null,
      "outputs": [
        {
          "output_type": "execute_result",
          "data": {
            "text/plain": [
              "array([[ 0.96267155,  0.        ,  0.        , ...,  0.        ,\n",
              "         0.        ,  0.        ],\n",
              "       [-0.27067229,  1.        ,  0.        , ...,  0.        ,\n",
              "         0.        ,  0.        ],\n",
              "       [ 0.        , -0.27067229,  1.        , ...,  0.        ,\n",
              "         0.        ,  0.        ],\n",
              "       ...,\n",
              "       [ 0.        ,  0.        ,  0.        , ...,  1.        ,\n",
              "         0.        ,  0.        ],\n",
              "       [ 0.        ,  0.        ,  0.        , ..., -0.27067229,\n",
              "         1.        ,  0.        ],\n",
              "       [ 0.        ,  0.        ,  0.        , ...,  0.        ,\n",
              "        -0.27067229,  1.        ]])"
            ]
          },
          "metadata": {},
          "execution_count": 10
        }
      ]
    },
    {
      "cell_type": "code",
      "source": [
        "modelo."
      ],
      "metadata": {
        "id": "A9kNLh5mQqc0"
      },
      "execution_count": null,
      "outputs": []
    }
  ]
}